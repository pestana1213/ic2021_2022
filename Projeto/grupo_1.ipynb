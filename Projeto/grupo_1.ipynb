{
 "cells": [
  {
   "cell_type": "markdown",
   "metadata": {},
   "source": [
    "# Resolução do projeto de IC\n",
    "\n",
    "## Grupo 1"
   ]
  },
  {
   "cell_type": "code",
   "execution_count": 10,
   "metadata": {},
   "outputs": [],
   "source": [
    "from qiskit import QuantumCircuit, ClassicalRegister, QuantumRegister, Aer, execute\n",
    "from qiskit.tools.visualization import plot_histogram, visualize_transition\n",
    "import matplotlib.pyplot as plt\n",
    "import numpy as np"
   ]
  },
  {
   "cell_type": "code",
   "execution_count": 11,
   "metadata": {},
   "outputs": [],
   "source": [
    "from qiskit.compiler import transpile\n",
    "\n",
    "def execute_circuit_2(qc, shots=1024, decimal=False):\n",
    "    #define backend\n",
    "    device = Aer.get_backend('qasm_simulator')\n",
    "\n",
    "    #get counts\n",
    "    qc_transpiled = transpile(qc, backend=device)\n",
    "    counts = device.run(qc_transpiled, shots=shots).result().get_counts()\n",
    "\n",
    "    if decimal:\n",
    "        counts = dict((int(a[::-1],2),b) for (a,b) in counts.items())\n",
    "    else:\n",
    "        counts = dict((a[::-1],b) for (a,b) in counts.items())\n",
    "\n",
    "    return counts"
   ]
  },
  {
   "cell_type": "code",
   "execution_count": 12,
   "id": "e4aa9535",
   "metadata": {},
   "outputs": [],
   "source": [
    "def diffusion_operator_new(qr):\n",
    "    qc = QuantumCircuit(qr)\n",
    "\n",
    "    qc.h(qr)\n",
    "    qc.x(qr)\n",
    "\n",
    "    # Apply Hadamard gate to the last qubit.\n",
    "    qc.h(qr[-1])\n",
    "    qc.mct(qr[:-1], qr[-1])\n",
    "    # Apply Hadamard gate to the last qubit.\n",
    "    qc.h(qr[-1])\n",
    "\n",
    "    qc.x(qr)\n",
    "    qc.h(qr)\n",
    "\n",
    "    return qc"
   ]
  },
  {
   "cell_type": "code",
   "execution_count": 69,
   "id": "f068426f",
   "metadata": {},
   "outputs": [
    {
     "data": {
      "image/png": "[encoded data removed]",
      "text/plain": [
       "<Figure size 387.597x264.88 with 1 Axes>"
      ]
     },
     "execution_count": 69,
     "metadata": {},
     "output_type": "execute_result"
    }
   ],
   "source": [
    "from qiskit.circuit.library import PhaseOracle\n",
    "#oracle = PhaseOracle(\"(v0 | v1 | ~v2) & (~v0 | ~v1 | ~v2) & (~v0 | v1 | v2)\")\n",
    "#oracle = PhaseOracle(\"(v0 | ~v1 | ~v2) & (~v0 | ~v1 | v2) & (v0 | v1 | v2)\")\n",
    "#oracle = PhaseOracle(\"(v0 | v1 | v2)\")\n",
    "#oracle = PhaseOracle(\"(v0 | v1 | v2) & (~v0 | v1 | v2) & (v0 | ~v1 | ~v2) & (~v0 | v1 | ~v2) & (~v0 | ~v1 | ~v2)\")\n",
    "oracle = PhaseOracle.from_dimacs_file(\"3sat.dimacs\")\n",
    "oracle.draw(output='mpl')"
   ]
  },
  {
   "cell_type": "code",
   "execution_count": 70,
   "id": "2371ee34",
   "metadata": {},
   "outputs": [
    {
     "data": {
      "text/plain": [
       "['0000',\n",
       " '0001',\n",
       " '0010',\n",
       " '0011',\n",
       " '0100',\n",
       " '0101',\n",
       " '0110',\n",
       " '0111',\n",
       " '1000',\n",
       " '1001',\n",
       " '1010',\n",
       " '1011',\n",
       " '1100',\n",
       " '1101',\n",
       " '1110',\n",
       " '1111']"
      ]
     },
     "execution_count": 70,
     "metadata": {},
     "output_type": "execute_result"
    }
   ],
   "source": [
    "def generate_binary_strings(bit_count):\n",
    "    binary_strings = []\n",
    "    def genbin(n, bs=''):\n",
    "        if len(bs) == n:\n",
    "            binary_strings.append(bs)\n",
    "        else:\n",
    "            genbin(n, bs + '0')\n",
    "            genbin(n, bs + '1')\n",
    "\n",
    "\n",
    "    genbin(bit_count)\n",
    "    return binary_strings\n",
    "\n",
    "generate_binary_strings(4)"
   ]
  },
  {
   "cell_type": "code",
   "execution_count": 71,
   "metadata": {},
   "outputs": [],
   "source": [
    "def count_solutions(oracle_circ):\n",
    "    k = 0\n",
    "    for bstr in generate_binary_strings(oracle_circ.num_qubits):\n",
    "        if oracle.evaluate_bitstring(bstr[::-1]):\n",
    "            k += 1\n",
    "\n",
    "    return k"
   ]
  },
  {
   "cell_type": "code",
   "execution_count": 72,
   "id": "e225c156",
   "metadata": {},
   "outputs": [
    {
     "name": "stdout",
     "output_type": "stream",
     "text": [
      "evals to False for: 0000\n",
      "evals to True for: 0001\n",
      "evals to False for: 0010\n",
      "evals to False for: 0011\n",
      "evals to False for: 0100\n",
      "evals to True for: 0101\n",
      "evals to False for: 0110\n",
      "evals to True for: 0111\n",
      "evals to False for: 1000\n",
      "evals to False for: 1001\n",
      "evals to True for: 1010\n",
      "evals to True for: 1011\n",
      "evals to False for: 1100\n",
      "evals to False for: 1101\n",
      "evals to False for: 1110\n",
      "evals to False for: 1111\n"
     ]
    }
   ],
   "source": [
    "for bstr in generate_binary_strings(4):\n",
    "    print(f\"evals to {oracle.evaluate_bitstring(bstr[::-1])} for: \" + bstr)\n"
   ]
  },
  {
   "cell_type": "code",
   "execution_count": 73,
   "metadata": {},
   "outputs": [
    {
     "data": {
      "text/plain": [
       "5"
      ]
     },
     "execution_count": 73,
     "metadata": {},
     "output_type": "execute_result"
    }
   ],
   "source": [
    "count_solutions(oracle)"
   ]
  },
  {
   "cell_type": "code",
   "execution_count": 74,
   "id": "d1cb244f",
   "metadata": {},
   "outputs": [],
   "source": [
    "from math import sqrt, ceil, floor, pi\n",
    "\n",
    "def my_grover(oracle_circ, iterations = 2):\n",
    "    nqubits = oracle_circ.num_qubits\n",
    "\n",
    "    qr = QuantumRegister(nqubits, 'q')\n",
    "    cr = ClassicalRegister(nqubits, 'c')\n",
    "\n",
    "    qc = QuantumCircuit(qr, cr)\n",
    "\n",
    "    qc.h(qr)\n",
    "\n",
    "    k = count_solutions(oracle_circ)\n",
    "    N = 2**nqubits\n",
    "\n",
    "    sqrtN = floor(pi/4 * sqrt(N/k))\n",
    "\n",
    "    iterations=sqrtN\n",
    "    for j in range(iterations):\n",
    "        qc = qc.compose(oracle_circ)\n",
    "        qc.barrier()\n",
    "        qc = qc.compose(diffusion_operator_new(qr))\n",
    "\n",
    "    qc.measure(qr, cr)\n",
    "    return qc"
   ]
  },
  {
   "cell_type": "code",
   "execution_count": 75,
   "id": "a40e8f84",
   "metadata": {},
   "outputs": [
    {
     "data": {
      "image/png": "[encoded data removed]",
      "text/plain": [
       "<Figure size 1170.2x325.08 with 1 Axes>"
      ]
     },
     "execution_count": 75,
     "metadata": {},
     "output_type": "execute_result"
    }
   ],
   "source": [
    "qc = my_grover(oracle)\n",
    "qc.draw(output=\"mpl\")"
   ]
  },
  {
   "cell_type": "code",
   "execution_count": 76,
   "id": "540009df",
   "metadata": {},
   "outputs": [
    {
     "data": {
      "image/png": "[encoded data removed]",
      "text/plain": [
       "<Figure size 504x360 with 1 Axes>"
      ]
     },
     "execution_count": 76,
     "metadata": {},
     "output_type": "execute_result"
    }
   ],
   "source": [
    "counts = execute_circuit_2(qc, shots = 4096)\n",
    "plot_histogram(counts)"
   ]
  }
 ],
 "metadata": {
  "interpreter": {
   "hash": "b4e40206b244df7f306018e94002c979f45fdc1ff1e285aaa68e8cb546e6ec62"
  },
  "kernelspec": {
   "display_name": "Python 3.9.7 ('base')",
   "language": "python",
   "name": "python3"
  },
  "language_info": {
   "codemirror_mode": {
    "name": "ipython",
    "version": 3
   },
   "file_extension": ".py",
   "mimetype": "text/x-python",
   "name": "python",
   "nbconvert_exporter": "python",
   "pygments_lexer": "ipython3",
   "version": "3.9.7"
  },
  "orig_nbformat": 4
 },
 "nbformat": 4,
 "nbformat_minor": 2
}
